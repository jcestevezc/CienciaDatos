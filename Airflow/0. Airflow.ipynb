{
  "nbformat": 4,
  "nbformat_minor": 0,
  "metadata": {
    "colab": {
      "name": "0. Airflow.ipynb",
      "provenance": [],
      "authorship_tag": "ABX9TyP971Ac/EchX78mshD7ZSUz",
      "include_colab_link": true
    },
    "kernelspec": {
      "name": "python3",
      "display_name": "Python 3"
    }
  },
  "cells": [
    {
      "cell_type": "markdown",
      "metadata": {
        "id": "view-in-github",
        "colab_type": "text"
      },
      "source": [
        "<a href=\"https://colab.research.google.com/github/jcestevezc/CienciaDatos/blob/master/Airflow/0.%20Airflow.ipynb\" target=\"_parent\"><img src=\"https://colab.research.google.com/assets/colab-badge.svg\" alt=\"Open In Colab\"/></a>"
      ]
    },
    {
      "cell_type": "code",
      "metadata": {
        "id": "P0J8Lf6n8Uqs",
        "colab_type": "code",
        "colab": {}
      },
      "source": [
        "#!pip install apache-airflow"
      ],
      "execution_count": 3,
      "outputs": []
    },
    {
      "cell_type": "code",
      "metadata": {
        "id": "MjpUJzcj7Tgd",
        "colab_type": "code",
        "colab": {}
      },
      "source": [
        "# Import the DAG object\n",
        "from airflow.models import DAG\n",
        "from datetime import datetime\n",
        "\n",
        "# Define the default_args dictionary\n",
        "default_args = {\n",
        "  'owner': 'dsmith',\n",
        "  'start_date': datetime(2020, 1, 14),\n",
        "  'retries': 2\n",
        "}\n",
        "\n",
        "# Instantiate the DAG object\n",
        "etl_dag = DAG('example_etl', default_args=default_args)"
      ],
      "execution_count": 2,
      "outputs": []
    },
    {
      "cell_type": "code",
      "metadata": {
        "id": "Hj4sQ1ETDikb",
        "colab_type": "code",
        "colab": {}
      },
      "source": [
        ""
      ],
      "execution_count": null,
      "outputs": []
    }
  ]
}